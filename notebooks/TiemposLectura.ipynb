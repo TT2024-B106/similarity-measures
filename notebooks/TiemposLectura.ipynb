{
 "cells": [
  {
   "cell_type": "markdown",
   "id": "de38f4e1-a057-4cc9-90b5-4c0fe10a9258",
   "metadata": {},
   "source": [
    "# Comparar tiempos de ejecución para lecturas de archivos geojson #28"
   ]
  },
  {
   "cell_type": "markdown",
   "id": "1c5e3760-f699-45c2-b38d-4253d4f0da57",
   "metadata": {},
   "source": [
    "Los resultados que se presentan en esta notebook son basados en la misma cantidad de objetos obtenidos a partir de ECATEPEC.json "
   ]
  },
  {
   "cell_type": "markdown",
   "id": "b1ce9e53-5e7e-46aa-8fc7-5c6b5cf5ac22",
   "metadata": {},
   "source": [
    "# Librería json en Python"
   ]
  },
  {
   "cell_type": "markdown",
   "id": "149f4da6-0e0d-45b3-b11f-ff5bdf9c42ed",
   "metadata": {},
   "source": [
    "Usando la libreria de json en python podemos deserializar los objetos completos en el codigo, pero para este ejemplo solo vamos a importar la propiedad de \"coordinates\" \n",
    "para usarla en los algoritmos actuales.\n",
    "La funcion cuenta con el timer dentro para medir con exactitud la velocidad con la que deserializa n objetos."
   ]
  },
  {
   "cell_type": "code",
   "execution_count": 4,
   "id": "7e5693d0-e817-44ee-a2fa-899be6bc5af7",
   "metadata": {},
   "outputs": [],
   "source": [
    "import json\n",
    "import time\n",
    "\n",
    "def load_n_coordinates_from_json_file(file_path, n):\n",
    "    start_time = time.time()  # Start the timer\n",
    "    \n",
    "    coordinates_list = []\n",
    "    with open(file_path, 'r') as file:\n",
    "        for _ in range(n):\n",
    "            line = file.readline()\n",
    "            if not line:\n",
    "                break\n",
    "            obj = json.loads(line.strip())\n",
    "            \n",
    "            # Extract coordinates\n",
    "            coordinates = obj[\"features\"][0][\"geometry\"][\"coordinates\"]\n",
    "            coordinates_list.append(coordinates)\n",
    "    \n",
    "    end_time = time.time()  # End the timer\n",
    "    elapsed_time = end_time - start_time  # Calculate the elapsed time\n",
    "    \n",
    "    return coordinates_list, elapsed_time"
   ]
  },
  {
   "cell_type": "markdown",
   "id": "8806cb40-dae6-487b-ac8b-be430d6936e1",
   "metadata": {},
   "source": [
    "# Resultados"
   ]
  },
  {
   "cell_type": "code",
   "execution_count": null,
   "id": "080698e9-3237-4813-9550-ab70dc0b1cb3",
   "metadata": {},
   "outputs": [],
   "source": [
    "Para n = 1\n",
    "Time taken to load 1 coordinates: 0.0001 seconds\n",
    "\n",
    "Para n = 1000\n",
    "Time taken to load 1000 coordinates: 0.0522 seconds\n",
    "\n",
    "Para n = 3000\n",
    "Time taken to load 3000 coordinates: 0.1773 seconds\n",
    "\n",
    "Para n = 6000\n",
    "Time taken to load 6000 coordinates: 0.2746 seconds"
   ]
  },
  {
   "cell_type": "markdown",
   "id": "cfa7dd89-bada-4ebc-8a2a-657314a2919c",
   "metadata": {},
   "source": [
    "# Librería pyspark en Python"
   ]
  },
  {
   "cell_type": "markdown",
   "id": "53dd124d-c569-407c-83e0-0fba61ca6a76",
   "metadata": {},
   "source": [
    "Al igual que en la prueba con la liibreria json, la captura del tiempo es dentro de la funcion, la explicacion de la funcionalidad se puede consultar en el notebook de pyspark"
   ]
  },
  {
   "cell_type": "code",
   "execution_count": null,
   "id": "cc22aa5d-9ada-435e-a14f-d78813430ece",
   "metadata": {},
   "outputs": [],
   "source": [
    "import json\n",
    "import time\n",
    "from pyspark.sql import SparkSession\n",
    "from pyspark.sql.functions import col, explode\n",
    "\n",
    "# Inicializa SparkSession\n",
    "spark = SparkSession.builder.appName(\"LoadCoordinates\").getOrCreate()\n",
    "\n",
    "def load_n_coordinates_from_json_file(file_path, n):\n",
    "    start_time = time.time()  # Start the timer\n",
    "    \n",
    "    # Lee el archivo JSON usando Spark\n",
    "    df = spark.read.json(file_path)\n",
    "    \n",
    "    # Extrae las coordenadas desde la columna \"features\"\n",
    "    coordinates_df = df.select(explode(col(\"features\")).alias(\"features\")).select(\"features.geometry.coordinates\")\n",
    "    \n",
    "    # Selecciona las primeras n filas y colecta las coordenadas en una lista\n",
    "    coordinates_list = coordinates_df.limit(n).rdd.map(lambda row: row[0]).collect()\n",
    "    \n",
    "    end_time = time.time()  # End the timer\n",
    "    elapsed_time = end_time - start_time  # Calculate the elapsed time\n",
    "    \n",
    "    return coordinates_list, elapsed_time\n"
   ]
  },
  {
   "cell_type": "markdown",
   "id": "39f40e98-12d2-4713-86cf-f708d515af1e",
   "metadata": {},
   "source": [
    "# Resultados"
   ]
  },
  {
   "cell_type": "code",
   "execution_count": null,
   "id": "4d4f88d8-3fbf-4a78-8856-19764af982c8",
   "metadata": {},
   "outputs": [],
   "source": [
    "Para n = 1\n",
    "Time taken to load 1 coordinates: 6.7048 seconds\n",
    "\n",
    "Para n = 1000\n",
    "Time taken to load 1000 coordinates: 7.2669 seconds\n",
    "\n",
    "Para n = 3000\n",
    "Time taken to load 3000 coordinates: 7.6805 seconds\n",
    "\n",
    "Para n = 6000\n",
    "Time taken to load 6000 coordinates: 7.7959 seconds"
   ]
  }
 ],
 "metadata": {
  "kernelspec": {
   "display_name": "Python 3 (ipykernel)",
   "language": "python",
   "name": "python3"
  },
  "language_info": {
   "codemirror_mode": {
    "name": "ipython",
    "version": 3
   },
   "file_extension": ".py",
   "mimetype": "text/x-python",
   "name": "python",
   "nbconvert_exporter": "python",
   "pygments_lexer": "ipython3",
   "version": "3.12.4"
  }
 },
 "nbformat": 4,
 "nbformat_minor": 5
}
