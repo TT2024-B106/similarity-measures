{
 "cells": [
  {
   "cell_type": "markdown",
   "id": "b050136c-4f42-4d3f-9081-b9d1a35e26bd",
   "metadata": {},
   "source": [
    "# Rust\n",
    "En este notebook se va a analizar la viabilidad de utilizar la tecnología **rust** con la que a priori, la cual tiene dentro de sus beneficios los siguientes:\n",
    "\n",
    "- Misma eficiencia que con `C++`.\n",
    "- Seguridad en el uso de memoria.\n",
    "- Integración práctica con Python.\n",
    "\n",
    "## Primeros pasos con `rust`\n",
    "Para empezar se empezó [instalando](https://www.rust-lang.org/tools/install) `rust` de una forma muy sencilla a través de `curl` y posteriormente se siguió el [hola mundo](https://www.rust-lang.org/learn/get-started) que la documentación proveé el cual contiene lo siguiente:\n",
    "\n",
    "```rs\n",
    "fn main() {\n",
    "    println!(\"Hello World!\");\n",
    "}\n",
    "```\n",
    "\n",
    "El cual pudo ser ejecutado después haber inicializado el proyecto con `cargo new <nombre_proyecto>` y luego corriéndolo con `cargo run`.\n",
    "\n",
    "## Integración con Python\n",
    "**PyO3** son integraciones de `Rust` con `Python` para poder crear, correr e interactuar con código `Python` desde binarios en `Rust` [[1](https://pyo3.rs/v0.22.2/)].\n",
    "\n",
    "Un ejemplo básico es a través de la librería `maturin` que se puede instalar a través de `pip` y permite construir y publicar paquetes `Python` basados en `Rust` con una mínma configuración a través de un archivo `Cargo.toml`\n",
    "\n",
    "```toml\n",
    "[package]\n",
    "name = \"stmeasures\"\n",
    "version = \"0.1.0\"\n",
    "edition = \"2021\"\n",
    "\n",
    "[lib]\n",
    "name = \"stmeasures\"\n",
    "# \"cdylib\" is necessary to produce a shared library for Python to import from.\n",
    "#\n",
    "# Downstream Rust code (including code in `bin/`, `examples/`, and `tests/`) will not be able\n",
    "# to `use string_sum;` unless the \"rlib\" or \"lib\" crate type is also included, e.g.:\n",
    "# crate-type = [\"cdylib\", \"rlib\"]\n",
    "crate-type = [\"cdylib\"]\n",
    "\n",
    "[dependencies.pyo3]\n",
    "version = \"0.22.2\"\n",
    "features = [\"extension-module\"]\n",
    "```\n",
    "\n",
    "y el archivo `src/lib.rs`:\n",
    "```rs\n",
    "use pyo3::prelude::*;\n",
    "\n",
    "/// Formats the sum of two numbers as string.\n",
    "#[pyfunction]\n",
    "fn sum_as_string(a: usize, b: usize) -> PyResult<String> {\n",
    "    Ok((a + b).to_string())\n",
    "}\n",
    "\n",
    "/// A Python module implemented in Rust.\n",
    "#[pymodule]\n",
    "fn stmeasures(m: &Bound<'_, PyModule>) -> PyResult<()> {\n",
    "    m.add_function(wrap_pyfunction!(sum_as_string, m)?)?;\n",
    "\n",
    "    Ok(())\n",
    "}\n",
    "```\n",
    "\n",
    "Haciéndo algunas modificaciones (si lo son necesarias) pertinentes, después de ejecutar en terminal `maturin develop`, es posible utilizar esta librería recién creada."
   ]
  },
  {
   "cell_type": "code",
   "execution_count": 2,
   "id": "459b5f14-62a6-46cb-9fba-69c5c772f0ba",
   "metadata": {},
   "outputs": [
    {
     "data": {
      "text/plain": [
       "'32'"
      ]
     },
     "execution_count": 2,
     "metadata": {},
     "output_type": "execute_result"
    }
   ],
   "source": [
    "import stmeasures\n",
    "\n",
    "stmeasures.sum_as_string(20, 12)"
   ]
  }
 ],
 "metadata": {
  "kernelspec": {
   "display_name": "Python 3 (ipykernel)",
   "language": "python",
   "name": "python3"
  },
  "language_info": {
   "codemirror_mode": {
    "name": "ipython",
    "version": 3
   },
   "file_extension": ".py",
   "mimetype": "text/x-python",
   "name": "python",
   "nbconvert_exporter": "python",
   "pygments_lexer": "ipython3",
   "version": "3.12.4"
  }
 },
 "nbformat": 4,
 "nbformat_minor": 5
}
