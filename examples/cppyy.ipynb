{
 "cells": [
  {
   "cell_type": "markdown",
   "id": "d70aa09f-8955-4aaa-bfc9-57e658c70514",
   "metadata": {},
   "source": [
    "# Libreria `cppyy`\n",
    "Esta libreria permite integrar Python y C++ de una forma más directa."
   ]
  },
  {
   "cell_type": "code",
   "execution_count": 1,
   "id": "6b332204-d00c-43c3-8093-0c2542df9918",
   "metadata": {},
   "outputs": [
    {
     "data": {
      "text/plain": [
       "'1.3.1'"
      ]
     },
     "execution_count": 1,
     "metadata": {},
     "output_type": "execute_result"
    }
   ],
   "source": [
    "import cppyy\n",
    "\n",
    "# Ejemplo basico\n",
    "cppyy.include('zlib.h')\n",
    "cppyy.load_library('libz')\n",
    "cppyy.gbl.zlibVersion()"
   ]
  },
  {
   "cell_type": "markdown",
   "id": "64eb554d-b94c-4172-b243-f41cd058dbb2",
   "metadata": {},
   "source": [
    "## Importando GeoJSON desde python\n",
    "Usando la librería `cppyy` podemos delegar todo el procesamiento JSON a Python y hacer los cálculos correspondientes en C++."
   ]
  },
  {
   "cell_type": "code",
   "execution_count": 2,
   "id": "2041b592-ea25-4b7f-8350-840429f40cce",
   "metadata": {},
   "outputs": [
    {
     "data": {
      "text/plain": [
       "{'type': 'FeatureCollection',\n",
       " 'features': [{'type': 'Feature',\n",
       "   'properties': {},\n",
       "   'geometry': {'coordinates': [-99.74643387461701, 19.994418410124936],\n",
       "    'type': 'Point'}},\n",
       "  {'type': 'Feature',\n",
       "   'properties': {},\n",
       "   'geometry': {'coordinates': [-98.93927229373823, 19.30239486765392],\n",
       "    'type': 'Point'}},\n",
       "  {'type': 'Feature',\n",
       "   'properties': {},\n",
       "   'geometry': {'coordinates': [-97.72492992982917, 19.45065004363352],\n",
       "    'type': 'Point'}},\n",
       "  {'type': 'Feature',\n",
       "   'properties': {},\n",
       "   'geometry': {'coordinates': [-96.51613813793878, 19.976112338613415],\n",
       "    'type': 'Point'}}]}"
      ]
     },
     "execution_count": 2,
     "metadata": {},
     "output_type": "execute_result"
    }
   ],
   "source": [
    "import json\n",
    "\n",
    "with open('a4.json', 'r') as file:\n",
    "    a4json = json.load(file)\n",
    "with open('b4.json', 'r') as file:\n",
    "    b4json = json.load(file)\n",
    "    \n",
    "a4json"
   ]
  },
  {
   "cell_type": "code",
   "execution_count": 3,
   "id": "47ea77e2-2d0f-4380-b804-e5ba94bbe69d",
   "metadata": {},
   "outputs": [
    {
     "data": {
      "text/plain": [
       "(<GEOMETRYCOLLECTION (POINT (-99.746 19.994), POINT (-98.939 19.302), POINT (...>,\n",
       " <GEOMETRYCOLLECTION (POINT (-99.656 19.136), POINT (-98.73 19.794), POINT (-...>)"
      ]
     },
     "execution_count": 3,
     "metadata": {},
     "output_type": "execute_result"
    }
   ],
   "source": [
    "import shapely\n",
    "\n",
    "shapely.from_geojson(json.dumps(a4json)), shapely.from_geojson(json.dumps(b4json))"
   ]
  },
  {
   "cell_type": "markdown",
   "id": "453eec31-7387-4eb7-bc79-1bda540cade5",
   "metadata": {},
   "source": [
    "### Creación de clases GeoJSON en python\n",
    "Esto permite mapear los GeoJSON a un objeto en python y poder después traducir esto a un objeto C++ como una alternativa, o manipular los datos de una forma más orientada a objetos."
   ]
  },
  {
   "cell_type": "code",
   "execution_count": 4,
   "id": "18a9499c-1bd5-4a2c-bc88-36da3ca2aa99",
   "metadata": {},
   "outputs": [],
   "source": [
    "class GeoJSONCollection:\n",
    "    def __init__(self, features=None):\n",
    "        self.type = \"FeatureCollection\"\n",
    "        self.features = features or []\n",
    "\n",
    "class Geometry:\n",
    "    def __init__(self, coordinates=None):\n",
    "        self.coordinates = coordinates\n",
    "\n",
    "class GeoJSONFeature:\n",
    "    def __init__(self, geometry_type, properties=None):\n",
    "        self.geometry_type = geometry_type\n",
    "        self.properties = properties or {}\n",
    "        self.geometry = Geometry()\n",
    "\n",
    "class GeoJSONPoint(GeoJSONFeature):\n",
    "    def __init__(self, coordinates, properties=None):\n",
    "        super().__init__(\"Point\", properties)\n",
    "          \n",
    "        self.geometry.coordinates = coordinates\n",
    "\n",
    "    @property\n",
    "    def x(self):\n",
    "        return self.geometry.coordinates[0]\n",
    "\n",
    "    @property\n",
    "    def y(self):\n",
    "        return self.geometry.coordinates[1]"
   ]
  },
  {
   "cell_type": "code",
   "execution_count": 5,
   "id": "0d07bd19-0cf3-45bb-81bb-4cf00256c60f",
   "metadata": {},
   "outputs": [],
   "source": [
    "def load_geojson(data):\n",
    "    features = []\n",
    "    \n",
    "    for feature in data.get(\"features\", []):\n",
    "        geometry_type = feature.get(\"geometry\", {}).get(\"type\")\n",
    "\n",
    "        if geometry_type == \"Point\":\n",
    "            properties = feature.get(\"properties\", {})\n",
    "            coordinates = feature.get(\"geometry\", {}).get(\"coordinates\")\n",
    "            point = GeoJSONPoint(coordinates, properties)\n",
    "\n",
    "            features.append(point)\n",
    "\n",
    "    return GeoJSONCollection(features)"
   ]
  },
  {
   "cell_type": "code",
   "execution_count": 21,
   "id": "3f18a38e-d29d-4fc2-9022-a9ad84ed9286",
   "metadata": {},
   "outputs": [
    {
     "data": {
      "text/plain": [
       "4"
      ]
     },
     "execution_count": 21,
     "metadata": {},
     "output_type": "execute_result"
    }
   ],
   "source": [
    "a4 = load_geojson(a4json)\n",
    "b4 = load_geojson(b4json)\n",
    "len(a4.features)"
   ]
  },
  {
   "cell_type": "markdown",
   "id": "494334bf-8289-4e2b-b58a-ca5422d2d2ff",
   "metadata": {},
   "source": [
    "## Ejemplo básico con puntos\n",
    "Se creo una libreria en C++ que permite crear instancias de tipo `Point` y llamar dentro de esta instancia el método `distanceTo` que calcula la distancia euclideana entre 2 puntos."
   ]
  },
  {
   "cell_type": "code",
   "execution_count": 9,
   "id": "09e183cd-7620-4430-bcc1-ba82c06a913a",
   "metadata": {},
   "outputs": [
    {
     "name": "stdout",
     "output_type": "stream",
     "text": [
      "Distance between points 2.8284271247461903\n"
     ]
    }
   ],
   "source": [
    "cppyy.include('/home/edev/devel/similarity-measures/pointlib/point.h')\n",
    "cppyy.load_library('/home/edev/devel/similarity-measures/pointlib/libpoint.so')\n",
    "\n",
    "point1 = cppyy.gbl.Point(1.0, 2.0)\n",
    "point2 = cppyy.gbl.Point(3.0, 4.0)\n",
    "\n",
    "distance = point1.distanceTo(point2)\n",
    "\n",
    "print(f\"Distance between points {distance}\")"
   ]
  },
  {
   "cell_type": "markdown",
   "id": "3cdb9cb9-8bf6-4420-9252-23a085a5b3f6",
   "metadata": {},
   "source": [
    "Comparación con shapely:"
   ]
  },
  {
   "cell_type": "code",
   "execution_count": 13,
   "id": "dbbb8c6d-648c-4b56-902d-5c1d39234e7f",
   "metadata": {},
   "outputs": [
    {
     "data": {
      "text/plain": [
       "2.8284271247461903"
      ]
     },
     "execution_count": 13,
     "metadata": {},
     "output_type": "execute_result"
    }
   ],
   "source": [
    "p1 = shapely.geometry.point.Point(1.0, 2.0)\n",
    "p2 = shapely.geometry.point.Point(3.0, 4.0)\n",
    "\n",
    "shapely.distance(p1, p2)"
   ]
  },
  {
   "cell_type": "markdown",
   "id": "a8410a86-eff5-4e1e-b668-b97a70bd95e6",
   "metadata": {},
   "source": [
    "## Distancia euclideana\n",
    "Se desarrolló una librería en C++ que calcula la distancia euclideana de colecciones de puntos del mismo tamaño, usando básicamente la siguiente función:\n",
    "\n",
    "```cpp\n",
    "double distance(const std::vector<double>& p,\n",
    "        \t\tconst std::vector<double>& q)\n",
    "{\n",
    "\t// Check if arrays have the same size\n",
    "\tif (p.size() != q.size()) {\n",
    "\t\tstd::cerr << \"Error: Arrays must have the same size.\" << std::endl;\n",
    "\t\treturn -1.0; // Return an error value\n",
    "\t}\n",
    "\n",
    "\tdouble sum_of_squares = 0.0;\n",
    "\tfor (size_t i = 0; i < p.size(); ++i) {\n",
    "\t\tdouble diff = p[i] - q[i];\n",
    "\t\tsum_of_squares += diff * diff;\n",
    "\t}\n",
    "\n",
    "\treturn sqrt(sum_of_squares);\n",
    "}\n",
    "````"
   ]
  },
  {
   "cell_type": "code",
   "execution_count": 33,
   "id": "beee0de4-a427-4f76-97c7-04889814aa84",
   "metadata": {},
   "outputs": [
    {
     "data": {
      "text/plain": [
       "2.8284271247461903"
      ]
     },
     "execution_count": 33,
     "metadata": {},
     "output_type": "execute_result"
    }
   ],
   "source": [
    "cppyy.include('/home/edev/devel/similarity-measures/src/euclidean.h')\n",
    "cppyy.load_library('/home/edev/devel/similarity-measures/build/libeuclidean.so')\n",
    "lib = cppyy.gbl\n",
    "\n",
    "lib.distance([1.0, 2.0], [3.0, 4.0])"
   ]
  },
  {
   "cell_type": "markdown",
   "id": "b046a3fe-5cf9-4851-b38d-18967f84ade6",
   "metadata": {},
   "source": [
    "De esta forma, ahora solo queda adaptar una función que trabaje con los GeoJSON importados."
   ]
  },
  {
   "cell_type": "code",
   "execution_count": 61,
   "id": "e46c3878-4802-44bb-9457-01aed8141eca",
   "metadata": {},
   "outputs": [
    {
     "data": {
      "text/plain": [
       "1.214961596758731"
      ]
     },
     "execution_count": 61,
     "metadata": {},
     "output_type": "execute_result"
    }
   ],
   "source": [
    "def distance(c1: GeoJSONCollection, c2: GeoJSONCollection) -> float:\n",
    "    p = [point.x for point in c1.features] + [point.y for point in c1.features]\n",
    "    q = [point.x for point in c2.features] + [point.y for point in c2.features]\n",
    "\n",
    "    return lib.distance(p, q)\n",
    "    \n",
    "distance(a4, b4)"
   ]
  },
  {
   "cell_type": "markdown",
   "id": "2f61986a-6d42-49bd-9ff8-226c6d081388",
   "metadata": {},
   "source": [
    "### Comparación con Shapely\n",
    "Los resultados son muy distintos tanto en colección de puntos como en `LineString`."
   ]
  },
  {
   "cell_type": "code",
   "execution_count": 35,
   "id": "2d0c37f5-fbb4-4307-b324-ff70191ce31a",
   "metadata": {},
   "outputs": [
    {
     "data": {
      "text/plain": [
       "0.14962914341371103"
      ]
     },
     "execution_count": 35,
     "metadata": {},
     "output_type": "execute_result"
    }
   ],
   "source": [
    "shapely.distance(shapely.from_geojson(json.dumps(a4json)), shapely.from_geojson(json.dumps(b4json)))"
   ]
  },
  {
   "cell_type": "code",
   "execution_count": 56,
   "id": "1e96679d-d4d4-4450-a060-ed2baf96aeec",
   "metadata": {},
   "outputs": [
    {
     "data": {
      "text/plain": [
       "0.0"
      ]
     },
     "execution_count": 56,
     "metadata": {},
     "output_type": "execute_result"
    }
   ],
   "source": [
    "sa4 = shapely.LineString([[-99.74643387461701, 19.994418410124936], [-98.93927229373823, 19.30239486765392], [-97.72492992982917, 19.45065004363352], [-96.51613813793878, 19.976112338613415]])\n",
    "sb4 = shapely.LineString([[-99.65598412083149, 19.136428082255215], [-98.729859754318, 19.793728595661683], [-97.17610512705075, 19.100017568992712], [-96.65907954890238, 19.931878487430687]])\n",
    "\n",
    "shapely.distance(sa4, sb4)"
   ]
  },
  {
   "cell_type": "markdown",
   "id": "2fd1eb7f-8a84-4869-9a8e-a1f2635d1f61",
   "metadata": {},
   "source": [
    "Se verificaron los resultados con Wolfram:\n",
    "\n",
    "![distance_wolfram](wa.png)"
   ]
  }
 ],
 "metadata": {
  "kernelspec": {
   "display_name": "Python 3 (ipykernel)",
   "language": "python",
   "name": "python3"
  },
  "language_info": {
   "codemirror_mode": {
    "name": "ipython",
    "version": 3
   },
   "file_extension": ".py",
   "mimetype": "text/x-python",
   "name": "python",
   "nbconvert_exporter": "python",
   "pygments_lexer": "ipython3",
   "version": "3.11.7"
  }
 },
 "nbformat": 4,
 "nbformat_minor": 5
}
